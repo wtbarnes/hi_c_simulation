{
 "cells": [
  {
   "cell_type": "markdown",
   "metadata": {},
   "source": [
    "# Loop Hydrodynamics\n",
    "Configure loop hydrodynamics with HYDRAD. We need to write an interface to the HYDRAD model that can both configure the simulations and load the results back in"
   ]
  },
  {
   "cell_type": "code",
   "execution_count": 1,
   "metadata": {},
   "outputs": [
    {
     "name": "stderr",
     "output_type": "stream",
     "text": [
      "/storage-home/w/wtb2/anaconda3/envs/synthesizar/lib/python3.6/site-packages/hydrad_tools/configure/configure.py:20: UserWarning: GitPython not installed. Cannot retrieve base copy from GitHub.\n",
      "  warnings.warn('GitPython not installed. Cannot retrieve base copy from GitHub.')\n",
      "/storage-home/w/wtb2/anaconda3/envs/synthesizar/lib/python3.6/site-packages/h5py/__init__.py:36: FutureWarning: Conversion of the second argument of issubdtype from `float` to `np.floating` is deprecated. In future, it will be treated as `np.float64 == np.dtype(float).type`.\n",
      "  from ._conv import register_converters as _register_converters\n"
     ]
    }
   ],
   "source": [
    "import numpy as np\n",
    "import matplotlib.pyplot as plt\n",
    "from mpl_toolkits.mplot3d import Axes3D\n",
    "import astropy.units as u\n",
    "import astropy.constants as const\n",
    "import sunpy.sun.constants as sun_const\n",
    "from scipy.interpolate import splrep,splev\n",
    "\n",
    "from hydrad_tools.configure import Configure\n",
    "from hydrad_tools.parse import Strand\n",
    "\n",
    "import synthesizAR\n",
    "from synthesizAR.interfaces.ebtel import power_law_transform,calculate_free_energy\n",
    "\n",
    "\n",
    "%matplotlib inline"
   ]
  },
  {
   "cell_type": "code",
   "execution_count": 2,
   "metadata": {},
   "outputs": [],
   "source": [
    "active_region = synthesizAR.Field.restore('/storage-home/w/wtb2/data/hi_c_simulation/noaa12712_base/')"
   ]
  },
  {
   "cell_type": "markdown",
   "metadata": {},
   "source": [
    "## HYDRAD Interface\n",
    "The first thing we need to do is set up an interface to HYDRAD."
   ]
  },
  {
   "cell_type": "code",
   "execution_count": 3,
   "metadata": {},
   "outputs": [],
   "source": [
    "class HYDRADInterface(object):\n",
    "    \n",
    "    def __init__(self,base_config,hydrad_dir,output_dir):\n",
    "        self.name = 'HYDRAD'\n",
    "        self.base_config = base_config\n",
    "        self.hydrad_dir = hydrad_dir\n",
    "        self.output_dir = output_dir\n",
    "        self.duration = 200.0 * u.s\n",
    "        self.stress = 0.3\n",
    "        self.max_grid_cell = 1e8*u.cm\n",
    "    \n",
    "    def configure_input(self,loop):\n",
    "        config = self.base_config.copy()\n",
    "        # General configuration\n",
    "        config['general']['loop_length'] = loop.full_length\n",
    "        config['initial_conditions']['heating_location'] = loop.full_length / 2.\n",
    "        config['grid']['minimum_cells'] = int(loop.full_length / self.max_grid_cell)\n",
    "        # Gravity and cross-section coefficients\n",
    "        config['general']['tabulated_gravity_profile'] = self.get_gravity_coefficients(loop)\n",
    "        config['general']['tabulated_cross_section_profile'] = self.get_cross_section_coefficients(loop)\n",
    "        # Heating configuration\n",
    "        events = []\n",
    "        rates = self.get_heating_rates(loop)\n",
    "        twaits = self.get_waiting_times(rates)\n",
    "        cumulative_time = 0*u.s\n",
    "        for r,t in zip(rates,twaits):\n",
    "            events.append({\n",
    "                'time_start': cumulative_time.copy(),\n",
    "                'rise_duration': self.duration/2.,\n",
    "                'decay_duration': self.duration/2.,\n",
    "                'total_duration': self.duration,\n",
    "                'location': loop.full_length / 2.,\n",
    "                'scale_height': 1e300*u.cm,\n",
    "                'rate': r,\n",
    "            })\n",
    "            cumulative_time += t + self.duration\n",
    "        # Set the heating events here\n",
    "        config['heating']['events'] = events\n",
    "        # Setup configuration, run IC code\n",
    "        c = Configure(config)\n",
    "        c.setup_simulation(self.output_dir,base_path='/storage-home/w/wtb2/codes/HYDRAD/',name=loop.name,verbose=False)\n",
    "    \n",
    "    def load_results(self,loop):\n",
    "        # return time, electron_temperature, ion_temperature, density, velocity\n",
    "        pass\n",
    "    \n",
    "    def get_cross_section_coefficients(self, loop):\n",
    "        s_norm = loop.field_aligned_coordinate / loop.full_length\n",
    "        return np.polyfit(s_norm, loop.field_strength, 6)[::-1]\n",
    "    \n",
    "    def get_gravity_coefficients(self, loop):\n",
    "        s_norm = loop.field_aligned_coordinate / loop.full_length\n",
    "        s_hat = (np.gradient(loop.coordinates.cartesian.xyz, axis=1) \n",
    "                 / np.linalg.norm(np.gradient(loop.coordinates.cartesian.xyz, axis=1), axis=0))\n",
    "        r_hat = u.Quantity(np.stack([np.sin(loop.coordinates.spherical.lat)*np.cos(loop.coordinates.spherical.lon),\n",
    "                                     np.sin(loop.coordinates.spherical.lat)*np.sin(loop.coordinates.spherical.lon),\n",
    "                                     np.cos(loop.coordinates.spherical.lat)]))\n",
    "        g_parallel = -sun_const.surface_gravity.cgs * ((const.R_sun.cgs / loop.coordinates.spherical.distance)**2) * (r_hat * s_hat).sum(axis=0)\n",
    "        return np.polyfit(s_norm, g_parallel, 6)[::-1]\n",
    "    \n",
    "    def get_average_waiting_time(self,loop):\n",
    "        # Approximate the loop cooling time\n",
    "        return loop.full_length / (80*u.Mm) * 4000*u.s \n",
    "    \n",
    "    def get_number_events(self,loop):\n",
    "        twait = self.get_average_waiting_time(loop)\n",
    "        return int(np.ceil(base_config['general']['total_time'] / (self.duration + twait)))\n",
    "    \n",
    "    def get_heating_rates(self,loop):\n",
    "        rate_max = (self.stress * loop.field_strength.max().value)**2 / (8.*np.pi) * u.erg / (u.cm**3)\n",
    "        rate_max /= (self.duration / 2.)\n",
    "        rate_min = rate_max / 100.0\n",
    "        return power_law_transform(np.random.rand(self.get_number_events(loop)), rate_min, rate_max, -2.5) \n",
    "    \n",
    "    def get_waiting_times(self, rates):\n",
    "        prop_const = (self.base_config['general']['total_time'] - rates.shape[0] * self.duration) / rates.sum()\n",
    "        return rates * prop_const\n"
   ]
  },
  {
   "cell_type": "markdown",
   "metadata": {},
   "source": [
    "## Configure Loop Simulations"
   ]
  },
  {
   "cell_type": "markdown",
   "metadata": {},
   "source": [
    "First, setup a base configuration dictionary. These are the options that won't change from loop to loop."
   ]
  },
  {
   "cell_type": "code",
   "execution_count": 4,
   "metadata": {},
   "outputs": [],
   "source": [
    "base_config = {\n",
    "    'general': {\n",
    "        'total_time': 5e4 * u.s,\n",
    "        #'loop_length': 80 * u.Mm,\n",
    "        'footpoint_height': 5e8 * u.cm,\n",
    "        'output_interval': 5*u.s,\n",
    "        'loop_inclination': 0*u.deg,\n",
    "        'logging_frequency': 1000,\n",
    "        'write_file_physical': True,\n",
    "        'write_file_ion_populations': False,\n",
    "        'write_file_hydrogen_level_populations': False,\n",
    "        'write_file_timescales': False,\n",
    "        'write_file_equation_terms': False,\n",
    "        'heat_flux_limiting_coefficient': 1./6.,\n",
    "        'heat_flux_timestep_limit': 1e-10*u.s,\n",
    "        'use_kinetic_model': False,\n",
    "        'minimum_collisional_coupling_timescale': 0.01*u.s,\n",
    "        'force_single_fluid': False,\n",
    "        #'tabulated_gravity_profile':,\n",
    "        #'tabulated_cross_section_profile':,\n",
    "    },\n",
    "    'initial_conditions': {\n",
    "        'footpoint_temperature': 2e4 * u.K,\n",
    "        'footpoint_density': 1e11 * u.cm**(-3),\n",
    "        'isothermal': False,\n",
    "        #'heating_location':,\n",
    "        'heating_scale_height': 1e300*u.cm,\n",
    "        'heating_range_lower_bound': 1e-8*u.erg/u.s/(u.cm**3),\n",
    "        'heating_range_upper_bound': 1e2*u.erg/u.s/(u.cm**3),\n",
    "        'heating_range_step_size': 0.01,\n",
    "        'heating_range_fine_tuning': 10000.0,\n",
    "        'use_tabulated_gravity': False,\n",
    "    },\n",
    "    'radiation': {\n",
    "        'use_power_law_radiative_losses': True,\n",
    "        'decouple_ionization_state_solver': False,\n",
    "        'density_dependent_rates': False,\n",
    "        'optically_thick_radiation': False,\n",
    "        'nlte_chromosphere': False,\n",
    "        'ranges_dataset': 'ranges',\n",
    "        'emissivity_dataset': 'chianti_v7',\n",
    "        'abundance_dataset': 'asplund',\n",
    "        'rates_dataset': 'chianti_v7',\n",
    "        'elements_equilibrium': ['Fe'],\n",
    "        'elements_nonequilibrium': [],\n",
    "    },\n",
    "    'heating': {\n",
    "        'heat_electrons': True,\n",
    "        'background_heating': True,\n",
    "        'beam_heating': False,\n",
    "        'alfven_wave_heating': False,\n",
    "        #'events': [\n",
    "        #    {'time_start': 0.*u.s, \n",
    "        #     'rise_duration': 100*u.s,\n",
    "        #     'decay_duration': 100*u.s, \n",
    "        #     'total_duration': 200*u.s,\n",
    "        #     'location': 4e9*u.cm, \n",
    "        #     'scale_height': 1e300 * u.cm,\n",
    "        #     'rate': 0.1 *u.erg/u.s/(u.cm**3),},\n",
    "        #],\n",
    "    },\n",
    "    'solver': {\n",
    "        'epsilon': 0.01,\n",
    "        'safety_radiation': 0.1,\n",
    "        'safety_conduction': 1.0,\n",
    "        'safety_advection': 1.0,\n",
    "        'safety_atomic': 1.0,\n",
    "        'safety_viscosity': 1.0,\n",
    "        'cutoff_ion_fraction':1e-6,\n",
    "        'epsilon_d':0.1,\n",
    "        'epsilon_r':1.8649415311920072,\n",
    "        'timestep_increase_limit': 5*u.percent,\n",
    "        'relative_viscous_timescale': None,\n",
    "        'minimum_radiation_temperature': 2e4*u.K,\n",
    "        'zero_over_temperature_interval': 5.0e2*u.K,\n",
    "        'minimum_temperature': 1e4*u.K,\n",
    "        'maximum_optically_thin_density': 1e12*u.cm**(-3),\n",
    "    },\n",
    "    'grid': {\n",
    "        'adapt': True,\n",
    "        'adapt_every_n_time_steps': 10,\n",
    "        #'minimum_cells': 150,\n",
    "        'maximum_cells': 30000,\n",
    "        'maximum_refinement_level': 12,\n",
    "        'minimum_delta_s': 1.0*u.cm,\n",
    "        'maximum_variation': 10*u.percent,\n",
    "        'refine_on_density': True,\n",
    "        'refine_on_electron_energy': True,\n",
    "        'refine_on_hydrogen_energy': False,\n",
    "        'minimum_fractional_difference': 10*u.percent,\n",
    "        'maximum_fractional_difference': 20*u.percent,\n",
    "        'linear_restriction': True,\n",
    "        'enforce_conservation': False,\n",
    "    }\n",
    "} "
   ]
  },
  {
   "cell_type": "markdown",
   "metadata": {},
   "source": [
    "Now, instantiate the interface for HYDRAD. We'll use the base configuration we just setup."
   ]
  },
  {
   "cell_type": "code",
   "execution_count": 5,
   "metadata": {},
   "outputs": [],
   "source": [
    "interface = HYDRADInterface(base_config, '/storage-home/w/wtb2/codes/HYDRAD/',\n",
    "                            '/storage-home/w/wtb2/data/hi_c_simulation/hydrodynamics/')"
   ]
  },
  {
   "cell_type": "markdown",
   "metadata": {},
   "source": [
    "Finally, configure HYDRAD runs for all of our loops."
   ]
  },
  {
   "cell_type": "code",
   "execution_count": 6,
   "metadata": {},
   "outputs": [
    {
     "data": {
      "application/vnd.jupyter.widget-view+json": {
       "model_id": "35246ebccf2f478ab113498357087b0b",
       "version_major": 2,
       "version_minor": 0
      },
      "text/plain": [
       "FloatProgress(value=0.0)"
      ]
     },
     "metadata": {},
     "output_type": "display_data"
    },
    {
     "name": "stdout",
     "output_type": "stream",
     "text": [
      "\n"
     ]
    }
   ],
   "source": [
    "active_region.configure_loop_simulations(interface)"
   ]
  },
  {
   "cell_type": "markdown",
   "metadata": {},
   "source": [
    "### Sandbox\n",
    "Check a few results to make sure everything is working ok."
   ]
  },
  {
   "cell_type": "code",
   "execution_count": 119,
   "metadata": {},
   "outputs": [],
   "source": [
    "interface.configure_input(active_region.loops[0])"
   ]
  },
  {
   "cell_type": "code",
   "execution_count": 151,
   "metadata": {},
   "outputs": [
    {
     "data": {
      "text/latex": [
       "$34.994521 \\; \\mathrm{Mm}$"
      ],
      "text/plain": [
       "<Quantity 34.99452143 Mm>"
      ]
     },
     "execution_count": 151,
     "metadata": {},
     "output_type": "execute_result"
    }
   ],
   "source": [
    "strand0.loop_length.to(u.Mm)"
   ]
  },
  {
   "cell_type": "code",
   "execution_count": 121,
   "metadata": {},
   "outputs": [],
   "source": [
    "strand0 = Strand('/storage-home/w/wtb2/data/hi_c_simulation/hydrodynamics/loop000000/')"
   ]
  },
  {
   "cell_type": "code",
   "execution_count": 149,
   "metadata": {},
   "outputs": [
    {
     "name": "stdout",
     "output_type": "stream",
     "text": [
      "0.0 s\n"
     ]
    },
    {
     "data": {
      "text/plain": [
       "(-10000000.0, 10000000.0)"
      ]
     },
     "execution_count": 149,
     "metadata": {},
     "output_type": "execute_result"
    },
    {
     "data": {
      "image/png": "[encoded data removed]",
      "text/plain": [
       "<Figure size 1080x1080 with 4 Axes>"
      ]
     },
     "metadata": {},
     "output_type": "display_data"
    }
   ],
   "source": [
    "plt.figure(figsize=(15,15))\n",
    "i_time = 0\n",
    "print(strand0.time[i_time])\n",
    "plt.subplot(221) \n",
    "plt.plot(strand0[i_time].coordinate, strand0[i_time].electron_temperature)\n",
    "plt.ylim(0,5e6)\n",
    "plt.subplot(222)\n",
    "plt.plot(strand0[i_time].coordinate, strand0[i_time].electron_density)\n",
    "plt.ylim(1e8,2e13)\n",
    "plt.yscale('log')\n",
    "plt.subplot(223)\n",
    "plt.plot(strand0[i_time].coordinate, strand0[i_time].electron_pressure)\n",
    "plt.ylim(1e-2,1e2)\n",
    "plt.yscale('log')\n",
    "plt.subplot(224)\n",
    "plt.plot(strand0[i_time].coordinate, strand0[i_time].velocity)\n",
    "plt.ylim(-1e7,1e7)"
   ]
  },
  {
   "cell_type": "markdown",
   "metadata": {},
   "source": [
    "## Load in HYDRAD Results"
   ]
  },
  {
   "cell_type": "code",
   "execution_count": null,
   "metadata": {},
   "outputs": [],
   "source": []
  }
 ],
 "metadata": {
  "kernelspec": {
   "display_name": "Python [conda env:synthesizar]",
   "language": "python",
   "name": "conda-env-synthesizar-py"
  },
  "language_info": {
   "codemirror_mode": {
    "name": "ipython",
    "version": 3
   },
   "file_extension": ".py",
   "mimetype": "text/x-python",
   "name": "python",
   "nbconvert_exporter": "python",
   "pygments_lexer": "ipython3",
   "version": "3.6.5"
  }
 },
 "nbformat": 4,
 "nbformat_minor": 2
}
