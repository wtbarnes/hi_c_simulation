{
 "cells": [
  {
   "cell_type": "markdown",
   "metadata": {},
   "source": [
    "# Loop Hydrodynamics\n",
    "Configure loop hydrodynamics with HYDRAD. We need to write an interface to the HYDRAD model that can both configure the simulations and load the results back in"
   ]
  },
  {
   "cell_type": "code",
   "execution_count": 35,
   "metadata": {},
   "outputs": [],
   "source": [
    "import numpy as np\n",
    "import matplotlib.pyplot as plt\n",
    "from mpl_toolkits.mplot3d import Axes3D\n",
    "import astropy.units as u\n",
    "import astropy.constants as const\n",
    "import sunpy.sun.constants as sun_const\n",
    "from scipy.interpolate import splrep,splev\n",
    "\n",
    "from hydrad_tools.configure import Configure\n",
    "\n",
    "import synthesizAR\n",
    "from synthesizAR.interfaces.ebtel import power_law_transform,calculate_free_energy\n",
    "\n",
    "\n",
    "%matplotlib inline"
   ]
  },
  {
   "cell_type": "code",
   "execution_count": 2,
   "metadata": {},
   "outputs": [],
   "source": [
    "active_region = synthesizAR.Field.restore('/storage-home/w/wtb2/data/hi_c_simulation/noaa12712_base/')"
   ]
  },
  {
   "cell_type": "markdown",
   "metadata": {},
   "source": [
    "## HYDRAD Interface\n",
    "The first thing we need to do is set up an interface to HYDRAD."
   ]
  },
  {
   "cell_type": "code",
   "execution_count": 20,
   "metadata": {},
   "outputs": [],
   "source": [
    "class HYDRADInterface(object):\n",
    "    \n",
    "    def __init__(self,base_config,hydrad_dir,output_dir):\n",
    "        self.name = 'HYDRAD'\n",
    "        self.base_config = base_config\n",
    "        self.hydrad_dir = hydrad_dir\n",
    "        self.output_dir = output_dir\n",
    "        self.duration = 200.0 * u.s\n",
    "        self.stress = 0.3\n",
    "        self.max_grid_cell = 1e8*u.cm\n",
    "    \n",
    "    def configure_input(self,loop):\n",
    "        config = self.base_config.copy()\n",
    "        # General configuration\n",
    "        config['general']['loop_length'] = loop.full_length\n",
    "        config['initial_conditions']['heating_location'] = loop.full_length / 2.\n",
    "        config['grid']['minimum_cells'] = int(loop.full_length / self.max_grid_cell)\n",
    "        # Gravity and cross-section coefficients\n",
    "        config['general']['tabulated_gravity_profile'] = self.get_gravity_coefficients(loop)\n",
    "        config['general']['tabulated_cross_section_profile'] = self.get_cross_section_coefficients(loop)\n",
    "        # Heating configuration\n",
    "        events = []\n",
    "        rates = self.get_heating_rates(loop)\n",
    "        twaits = self.get_waiting_times(rates)\n",
    "        cumulative_time = 0*u.s\n",
    "        for r,t in zip(rates,twaits):\n",
    "            events.append({\n",
    "                'time_start': cumulative_time.copy(),\n",
    "                'rise_duration': self.duration/2.,\n",
    "                'decay_duration': self.duration/2.,\n",
    "                'total_duration': self.duration,\n",
    "                'location': loop.full_length / 2.,\n",
    "                'scale_height': 1e300*u.cm,\n",
    "                'rate': r,\n",
    "            })\n",
    "            cumulative_time += t + self.duration\n",
    "        # Set the heating events here\n",
    "        config['heating']['events'] = events\n",
    "        # Setup configuration, run IC code\n",
    "        c = Configure(config)\n",
    "        c.setup_simulation(self.output_dir,base_path='/storage-home/w/wtb2/codes/HYDRAD/',name=loop.name,verbose=False)\n",
    "    \n",
    "    def load_results(self,loop):\n",
    "        # return time, electron_temperature, ion_temperature, density, velocity\n",
    "        pass\n",
    "    \n",
    "    def get_cross_section_coefficients(self, loop):\n",
    "        s_norm = loop.field_aligned_coordinate / loop.full_length\n",
    "        return np.polyfit(s_norm, loop.field_strength, 6)[::-1]\n",
    "    \n",
    "    def get_gravity_coefficients(self, loop):\n",
    "        s_norm = loop.field_aligned_coordinate / loop.full_length\n",
    "        s_hat_r = np.gradient(loop.coordinates.spherical.distance,) / loop.coordinates.spherical.norm()\n",
    "        g_parallel = -sun_const.surface_gravity.cgs * ((const.R_sun.cgs / loop.coordinates.spherical.distance)**2) * s_hat_r\n",
    "        return np.polyfit(s_norm, g_parallel, 6)[::-1]\n",
    "    \n",
    "    def get_average_waiting_time(self,loop):\n",
    "        # Approximate the loop cooling time\n",
    "        return loop.full_length / (80*u.Mm) * 4000*u.s \n",
    "    \n",
    "    def get_number_events(self,loop):\n",
    "        twait = self.get_average_waiting_time(loop)\n",
    "        return int(np.ceil(base_config['general']['total_time'] / (self.duration + twait)))\n",
    "    \n",
    "    def get_heating_rates(self,loop):\n",
    "        rate_max = (self.stress * loop.field_strength.max().value)**2 / (8.*np.pi) * u.erg / (u.cm**3)\n",
    "        rate_max /= (self.duration / 2.)\n",
    "        rate_min = rate_max / 100.0\n",
    "        return power_law_transform(np.random.rand(self.get_number_events(loop)), rate_min, rate_max, -2.5) \n",
    "    \n",
    "    def get_waiting_times(self, rates):\n",
    "        prop_const = (self.base_config['general']['total_time'] - rates.shape[0] * self.duration) / rates.sum()\n",
    "        return rates * prop_const\n"
   ]
  },
  {
   "cell_type": "markdown",
   "metadata": {},
   "source": [
    "## Configure Loop Simulations"
   ]
  },
  {
   "cell_type": "markdown",
   "metadata": {},
   "source": [
    "First, setup a base configuration dictionary. These are the options that won't change from loop to loop."
   ]
  },
  {
   "cell_type": "code",
   "execution_count": 21,
   "metadata": {},
   "outputs": [],
   "source": [
    "base_config = {\n",
    "    'general': {\n",
    "        'total_time': 5e4 * u.s,\n",
    "        #'loop_length': 80 * u.Mm,\n",
    "        'footpoint_height': 5e8 * u.cm,\n",
    "        'output_interval': 5*u.s,\n",
    "        'loop_inclination': 0*u.deg,\n",
    "        'logging_frequency': 1000,\n",
    "        'write_file_physical': True,\n",
    "        'write_file_ion_populations': False,\n",
    "        'write_file_hydrogen_level_populations': False,\n",
    "        'write_file_timescales': False,\n",
    "        'write_file_equation_terms': False,\n",
    "        'heat_flux_limiting_coefficient': 1./6.,\n",
    "        'heat_flux_timestep_limit': 1e-10*u.s,\n",
    "        'use_kinetic_model': False,\n",
    "        'minimum_collisional_coupling_timescale': 0.01*u.s,\n",
    "        'force_single_fluid': False,\n",
    "        #'tabulated_gravity_profile':,\n",
    "        #'tabulated_cross_section_profile':,\n",
    "    },\n",
    "    'initial_conditions': {\n",
    "        'footpoint_temperature': 2e4 * u.K,\n",
    "        'footpoint_density': 1e11 * u.cm**(-3),\n",
    "        'isothermal': False,\n",
    "        #'heating_location':,\n",
    "        'heating_scale_height': 1e300*u.cm,\n",
    "        'heating_range_lower_bound': 1e-8*u.erg/u.s/(u.cm**3),\n",
    "        'heating_range_upper_bound': 1e2*u.erg/u.s/(u.cm**3),\n",
    "        'heating_range_step_size': 0.01,\n",
    "        'heating_range_fine_tuning': 10000.0,\n",
    "        'use_tabulated_gravity': False,\n",
    "    },\n",
    "    'radiation': {\n",
    "        'use_power_law_radiative_losses': True,\n",
    "        'decouple_ionization_state_solver': False,\n",
    "        'density_dependent_rates': False,\n",
    "        'optically_thick_radiation': False,\n",
    "        'nlte_chromosphere': False,\n",
    "        'ranges_dataset': 'ranges',\n",
    "        'emissivity_dataset': 'chianti_v7',\n",
    "        'abundance_dataset': 'asplund',\n",
    "        'rates_dataset': 'chianti_v7',\n",
    "        'elements_equilibrium': ['Fe'],\n",
    "        'elements_nonequilibrium': [],\n",
    "    },\n",
    "    'heating': {\n",
    "        'heat_electrons': True,\n",
    "        'background_heating': True,\n",
    "        'beam_heating': False,\n",
    "        'alfven_wave_heating': False,\n",
    "        #'events': [\n",
    "        #    {'time_start': 0.*u.s, \n",
    "        #     'rise_duration': 100*u.s,\n",
    "        #     'decay_duration': 100*u.s, \n",
    "        #     'total_duration': 200*u.s,\n",
    "        #     'location': 4e9*u.cm, \n",
    "        #     'scale_height': 1e300 * u.cm,\n",
    "        #     'rate': 0.1 *u.erg/u.s/(u.cm**3),},\n",
    "        #],\n",
    "    },\n",
    "    'solver': {\n",
    "        'epsilon': 0.01,\n",
    "        'safety_radiation': 0.1,\n",
    "        'safety_conduction': 1.0,\n",
    "        'safety_advection': 1.0,\n",
    "        'safety_atomic': 1.0,\n",
    "        'safety_viscosity': 1.0,\n",
    "        'cutoff_ion_fraction':1e-6,\n",
    "        'epsilon_d':0.1,\n",
    "        'epsilon_r':1.8649415311920072,\n",
    "        'timestep_increase_limit': 5*u.percent,\n",
    "        'relative_viscous_timescale': None,\n",
    "        'minimum_radiation_temperature': 2e4*u.K,\n",
    "        'zero_over_temperature_interval': 5.0e2*u.K,\n",
    "        'minimum_temperature': 1e4*u.K,\n",
    "        'maximum_optically_thin_density': 1e12*u.cm**(-3),\n",
    "    },\n",
    "    'grid': {\n",
    "        'adapt': True,\n",
    "        'adapt_every_n_time_steps': 10,\n",
    "        #'minimum_cells': 150,\n",
    "        'maximum_cells': 30000,\n",
    "        'maximum_refinement_level': 12,\n",
    "        'minimum_delta_s': 1.0*u.cm,\n",
    "        'maximum_variation': 10*u.percent,\n",
    "        'refine_on_density': True,\n",
    "        'refine_on_electron_energy': True,\n",
    "        'refine_on_hydrogen_energy': False,\n",
    "        'minimum_fractional_difference': 10*u.percent,\n",
    "        'maximum_fractional_difference': 20*u.percent,\n",
    "        'linear_restriction': True,\n",
    "        'enforce_conservation': False,\n",
    "    }\n",
    "} \n"
   ]
  },
  {
   "cell_type": "code",
   "execution_count": 22,
   "metadata": {},
   "outputs": [],
   "source": [
    "interface = HYDRADInterface(base_config, '/storage-home/w/wtb2/codes/HYDRAD/',\n",
    "                            '/storage-home/w/wtb2/data/hi_c_simulation/hydrodynamics/')"
   ]
  },
  {
   "cell_type": "code",
   "execution_count": 18,
   "metadata": {},
   "outputs": [
    {
     "name": "stdout",
     "output_type": "stream",
     "text": [
      "\n",
      "\n",
      "\n",
      "In file included from ../source/misc.cpp:22:0:\n",
      "../source/../../Resources/Utils/regPoly/nrutil.h:4:15: warning: ‘sqrarg’ defined but not used [-Wunused-variable]\n",
      " static double sqrarg;\n",
      "               ^\n",
      "../source/../../Resources/Utils/regPoly/nrutil.h:7:15: warning: ‘dsqrarg’ defined but not used [-Wunused-variable]\n",
      " static double dsqrarg;\n",
      "               ^\n",
      "../source/../../Resources/Utils/regPoly/nrutil.h:10:15: warning: ‘dmaxarg1’ defined but not used [-Wunused-variable]\n",
      " static double dmaxarg1,dmaxarg2;\n",
      "               ^\n",
      "../source/../../Resources/Utils/regPoly/nrutil.h:10:24: warning: ‘dmaxarg2’ defined but not used [-Wunused-variable]\n",
      " static double dmaxarg1,dmaxarg2;\n",
      "                        ^\n",
      "../source/../../Resources/Utils/regPoly/nrutil.h:14:15: warning: ‘dminarg1’ defined but not used [-Wunused-variable]\n",
      " static double dminarg1,dminarg2;\n",
      "               ^\n",
      "../source/../../Resources/Utils/regPoly/nrutil.h:14:24: warning: ‘dminarg2’ defined but not used [-Wunused-variable]\n",
      " static double dminarg1,dminarg2;\n",
      "                        ^\n",
      "../source/../../Resources/Utils/regPoly/nrutil.h:18:15: warning: ‘maxarg1’ defined but not used [-Wunused-variable]\n",
      " static double maxarg1,maxarg2;\n",
      "               ^\n",
      "../source/../../Resources/Utils/regPoly/nrutil.h:18:23: warning: ‘maxarg2’ defined but not used [-Wunused-variable]\n",
      " static double maxarg1,maxarg2;\n",
      "                       ^\n",
      "../source/../../Resources/Utils/regPoly/nrutil.h:22:15: warning: ‘minarg1’ defined but not used [-Wunused-variable]\n",
      " static double minarg1,minarg2;\n",
      "               ^\n",
      "../source/../../Resources/Utils/regPoly/nrutil.h:22:23: warning: ‘minarg2’ defined but not used [-Wunused-variable]\n",
      " static double minarg1,minarg2;\n",
      "                       ^\n",
      "../source/../../Resources/Utils/regPoly/nrutil.h:26:13: warning: ‘lmaxarg1’ defined but not used [-Wunused-variable]\n",
      " static long lmaxarg1,lmaxarg2;\n",
      "             ^\n",
      "../source/../../Resources/Utils/regPoly/nrutil.h:26:22: warning: ‘lmaxarg2’ defined but not used [-Wunused-variable]\n",
      " static long lmaxarg1,lmaxarg2;\n",
      "                      ^\n",
      "../source/../../Resources/Utils/regPoly/nrutil.h:30:13: warning: ‘lminarg1’ defined but not used [-Wunused-variable]\n",
      " static long lminarg1,lminarg2;\n",
      "             ^\n",
      "../source/../../Resources/Utils/regPoly/nrutil.h:30:22: warning: ‘lminarg2’ defined but not used [-Wunused-variable]\n",
      " static long lminarg1,lminarg2;\n",
      "                      ^\n",
      "../source/../../Resources/Utils/regPoly/nrutil.h:34:12: warning: ‘imaxarg1’ defined but not used [-Wunused-variable]\n",
      " static int imaxarg1,imaxarg2;\n",
      "            ^\n",
      "../source/../../Resources/Utils/regPoly/nrutil.h:34:21: warning: ‘imaxarg2’ defined but not used [-Wunused-variable]\n",
      " static int imaxarg1,imaxarg2;\n",
      "                     ^\n",
      "../source/../../Resources/Utils/regPoly/nrutil.h:38:12: warning: ‘iminarg1’ defined but not used [-Wunused-variable]\n",
      " static int iminarg1,iminarg2;\n",
      "            ^\n",
      "../source/../../Resources/Utils/regPoly/nrutil.h:38:21: warning: ‘iminarg2’ defined but not used [-Wunused-variable]\n",
      " static int iminarg1,iminarg2;\n",
      "                     ^\n",
      "../../Resources/Utils/regPoly/regpoly.cpp: In function ‘void lfit(double*, double*, double*, int, double*, int*, int, double**, double*, void (*)(double, double*, int))’:\n",
      "../../Resources/Utils/regPoly/regpoly.cpp:34:58: warning: deprecated conversion from string constant to ‘char*’ [-Wwrite-strings]\n",
      " if (mfit == 0) nrerror(\"lfit: no parameters to be fitted\");\n",
      "                                                          ^\n",
      "../../Resources/Utils/regPoly/regpoly.cpp: In function ‘void gaussj(double**, int, double**, int)’:\n",
      "../../Resources/Utils/regPoly/regpoly.cpp:125:61: warning: deprecated conversion from string constant to ‘char*’ [-Wwrite-strings]\n",
      "  if (a[icol][icol] == 0.0) nrerror(\"gaussj: Singular Matrix\");\n",
      "                                                             ^\n",
      "../../Resources/Utils/regPoly/regpoly.cpp:98:23: warning: unused variable ‘temp’ [-Wunused-variable]\n",
      " double big,dum,pivinv,temp;\n",
      "                       ^\n",
      "../../Resources/Utils/regPoly/regpoly.cpp: In function ‘void svdcmp(double**, int, int, double*, double**)’:\n",
      "../../Resources/Utils/regPoly/regpoly.cpp:334:65: warning: deprecated conversion from string constant to ‘char*’ [-Wwrite-strings]\n",
      "  if (its == 30) nrerror(\"no convergence in 30 svdcmp iterations\");\n",
      "                                                                 ^\n",
      "../../Resources/Utils/regPoly/regpoly.cpp: In function ‘void gaussj(double**, int, double**, int)’:\n",
      "../../Resources/Utils/regPoly/regpoly.cpp:97:12: warning: ‘irow’ may be used uninitialized in this function [-Wmaybe-uninitialized]\n",
      " int i,icol,irow,j,k,l,ll;\n",
      "            ^\n",
      "../../Resources/Utils/regPoly/regpoly.cpp:124:15: warning: ‘icol’ may be used uninitialized in this function [-Wmaybe-uninitialized]\n",
      "  indxc[i]=icol;\n",
      "               ^\n",
      "In file included from ../../Resources/Utils/regPoly/regpoly.cpp:17:0:\n",
      "../../Resources/Utils/regPoly/nrutil.h: At global scope:\n",
      "../../Resources/Utils/regPoly/nrutil.h:7:15: warning: ‘dsqrarg’ defined but not used [-Wunused-variable]\n",
      " static double dsqrarg;\n",
      "               ^\n",
      "../../Resources/Utils/regPoly/nrutil.h:10:15: warning: ‘dmaxarg1’ defined but not used [-Wunused-variable]\n",
      " static double dmaxarg1,dmaxarg2;\n",
      "               ^\n",
      "../../Resources/Utils/regPoly/nrutil.h:10:24: warning: ‘dmaxarg2’ defined but not used [-Wunused-variable]\n",
      " static double dmaxarg1,dmaxarg2;\n",
      "                        ^\n",
      "../../Resources/Utils/regPoly/nrutil.h:14:15: warning: ‘dminarg1’ defined but not used [-Wunused-variable]\n",
      " static double dminarg1,dminarg2;\n",
      "               ^\n",
      "../../Resources/Utils/regPoly/nrutil.h:14:24: warning: ‘dminarg2’ defined but not used [-Wunused-variable]\n",
      " static double dminarg1,dminarg2;\n",
      "                        ^\n",
      "../../Resources/Utils/regPoly/nrutil.h:22:15: warning: ‘minarg1’ defined but not used [-Wunused-variable]\n",
      " static double minarg1,minarg2;\n",
      "               ^\n",
      "../../Resources/Utils/regPoly/nrutil.h:22:23: warning: ‘minarg2’ defined but not used [-Wunused-variable]\n",
      " static double minarg1,minarg2;\n",
      "                       ^\n",
      "../../Resources/Utils/regPoly/nrutil.h:26:13: warning: ‘lmaxarg1’ defined but not used [-Wunused-variable]\n",
      " static long lmaxarg1,lmaxarg2;\n",
      "             ^\n",
      "../../Resources/Utils/regPoly/nrutil.h:26:22: warning: ‘lmaxarg2’ defined but not used [-Wunused-variable]\n",
      " static long lmaxarg1,lmaxarg2;\n",
      "                      ^\n",
      "../../Resources/Utils/regPoly/nrutil.h:30:13: warning: ‘lminarg1’ defined but not used [-Wunused-variable]\n",
      " static long lminarg1,lminarg2;\n",
      "             ^\n",
      "../../Resources/Utils/regPoly/nrutil.h:30:22: warning: ‘lminarg2’ defined but not used [-Wunused-variable]\n",
      " static long lminarg1,lminarg2;\n",
      "                      ^\n",
      "../../Resources/Utils/regPoly/nrutil.h:34:12: warning: ‘imaxarg1’ defined but not used [-Wunused-variable]\n",
      " static int imaxarg1,imaxarg2;\n",
      "            ^\n",
      "../../Resources/Utils/regPoly/nrutil.h:34:21: warning: ‘imaxarg2’ defined but not used [-Wunused-variable]\n",
      " static int imaxarg1,imaxarg2;\n",
      "                     ^\n",
      "../../Resources/Utils/regPoly/nrutil.cpp: In function ‘double* vector(long int, long int)’:\n",
      "../../Resources/Utils/regPoly/nrutil.cpp:24:50: warning: deprecated conversion from string constant to ‘char*’ [-Wwrite-strings]\n",
      "  if (!v) nrerror(\"allocation failure in vector()\");\n",
      "                                                  ^\n",
      "../../Resources/Utils/regPoly/nrutil.cpp: In function ‘int* ivector(long int, long int)’:\n",
      "../../Resources/Utils/regPoly/nrutil.cpp:34:51: warning: deprecated conversion from string constant to ‘char*’ [-Wwrite-strings]\n",
      "  if (!v) nrerror(\"allocation failure in ivector()\");\n",
      "                                                   ^\n",
      "../../Resources/Utils/regPoly/nrutil.cpp: In function ‘unsigned char* cvector(long int, long int)’:\n",
      "../../Resources/Utils/regPoly/nrutil.cpp:44:51: warning: deprecated conversion from string constant to ‘char*’ [-Wwrite-strings]\n",
      "  if (!v) nrerror(\"allocation failure in cvector()\");\n",
      "                                                   ^\n",
      "../../Resources/Utils/regPoly/nrutil.cpp: In function ‘long unsigned int* lvector(long int, long int)’:\n",
      "../../Resources/Utils/regPoly/nrutil.cpp:54:51: warning: deprecated conversion from string constant to ‘char*’ [-Wwrite-strings]\n",
      "  if (!v) nrerror(\"allocation failure in lvector()\");\n",
      "                                                   ^\n",
      "../../Resources/Utils/regPoly/nrutil.cpp: In function ‘double* dvector(long int, long int)’:\n",
      "../../Resources/Utils/regPoly/nrutil.cpp:64:51: warning: deprecated conversion from string constant to ‘char*’ [-Wwrite-strings]\n",
      "  if (!v) nrerror(\"allocation failure in dvector()\");\n",
      "                                                   ^\n",
      "../../Resources/Utils/regPoly/nrutil.cpp: In function ‘double** matrix(long int, long int, long int, long int)’:\n",
      "../../Resources/Utils/regPoly/nrutil.cpp:76:52: warning: deprecated conversion from string constant to ‘char*’ [-Wwrite-strings]\n",
      "  if (!m) nrerror(\"allocation failure 1 in matrix()\");\n",
      "                                                    ^\n",
      "../../Resources/Utils/regPoly/nrutil.cpp:82:57: warning: deprecated conversion from string constant to ‘char*’ [-Wwrite-strings]\n",
      "  if (!m[nrl]) nrerror(\"allocation failure 2 in matrix()\");\n",
      "                                                         ^\n",
      "../../Resources/Utils/regPoly/nrutil.cpp: In function ‘double** dmatrix(long int, long int, long int, long int)’:\n",
      "../../Resources/Utils/regPoly/nrutil.cpp:100:52: warning: deprecated conversion from string constant to ‘char*’ [-Wwrite-strings]\n",
      "  if (!m) nrerror(\"allocation failure 1 in matrix()\");\n",
      "                                                    ^\n",
      "../../Resources/Utils/regPoly/nrutil.cpp:106:57: warning: deprecated conversion from string constant to ‘char*’ [-Wwrite-strings]\n",
      "  if (!m[nrl]) nrerror(\"allocation failure 2 in matrix()\");\n",
      "                                                         ^\n",
      "../../Resources/Utils/regPoly/nrutil.cpp: In function ‘int** imatrix(long int, long int, long int, long int)’:\n",
      "../../Resources/Utils/regPoly/nrutil.cpp:124:52: warning: deprecated conversion from string constant to ‘char*’ [-Wwrite-strings]\n",
      "  if (!m) nrerror(\"allocation failure 1 in matrix()\");\n",
      "                                                    ^\n",
      "../../Resources/Utils/regPoly/nrutil.cpp:131:57: warning: deprecated conversion from string constant to ‘char*’ [-Wwrite-strings]\n",
      "  if (!m[nrl]) nrerror(\"allocation failure 2 in matrix()\");\n",
      "                                                         ^\n",
      "../../Resources/Utils/regPoly/nrutil.cpp: In function ‘double** submatrix(double**, long int, long int, long int, long int, long int, long int)’:\n",
      "../../Resources/Utils/regPoly/nrutil.cpp:150:53: warning: deprecated conversion from string constant to ‘char*’ [-Wwrite-strings]\n",
      "  if (!m) nrerror(\"allocation failure in submatrix()\");\n",
      "                                                     ^\n",
      "../../Resources/Utils/regPoly/nrutil.cpp: In function ‘double** convert_matrix(double*, long int, long int, long int, long int)’:\n",
      "../../Resources/Utils/regPoly/nrutil.cpp:172:58: warning: deprecated conversion from string constant to ‘char*’ [-Wwrite-strings]\n",
      "  if (!m) nrerror(\"allocation failure in convert_matrix()\");\n",
      "                                                          ^\n",
      "../../Resources/Utils/regPoly/nrutil.cpp: In function ‘double*** f3tensor(long int, long int, long int, long int, long int, long int)’:\n",
      "../../Resources/Utils/regPoly/nrutil.cpp:191:54: warning: deprecated conversion from string constant to ‘char*’ [-Wwrite-strings]\n",
      "  if (!t) nrerror(\"allocation failure 1 in f3tensor()\");\n",
      "                                                      ^\n",
      "../../Resources/Utils/regPoly/nrutil.cpp:197:59: warning: deprecated conversion from string constant to ‘char*’ [-Wwrite-strings]\n",
      "  if (!t[nrl]) nrerror(\"allocation failure 2 in f3tensor()\");\n",
      "                                                           ^\n",
      "../../Resources/Utils/regPoly/nrutil.cpp:203:64: warning: deprecated conversion from string constant to ‘char*’ [-Wwrite-strings]\n",
      "  if (!t[nrl][ncl]) nrerror(\"allocation failure 3 in f3tensor()\");\n",
      "                                                                ^\n",
      "\n",
      "\n",
      "\n",
      "Calculating initial hydrostatic conditions...\n",
      "\n",
      "Peak heating range = 1.1482e-03 -> 1.1749e-03 erg cm^-3 s^-1\n",
      "\n",
      "Optimum peak heating rate = 1.1484e-03 erg cm^-3 s^-1\n",
      "\n",
      "Writing initial conditions file...\n",
      "\n",
      "Done!\n",
      "\n",
      "\n",
      "\n",
      "\n",
      "\n",
      "\n",
      "\n"
     ]
    }
   ],
   "source": [
    "interface.configure_input(active_region.loops[0])"
   ]
  },
  {
   "cell_type": "code",
   "execution_count": 24,
   "metadata": {},
   "outputs": [],
   "source": [
    "g_coeff = interface.get_gravity_coefficients(active_region.loops[0])\n",
    "s_over_L = active_region.loops[0].field_aligned_coordinate / active_region.loops[0].full_length"
   ]
  },
  {
   "cell_type": "code",
   "execution_count": 27,
   "metadata": {},
   "outputs": [],
   "source": [
    "g_loop = np.array([c*(s_over_L)**i for i,c in enumerate(g_coeff)]).sum(axis=0)"
   ]
  },
  {
   "cell_type": "code",
   "execution_count": 31,
   "metadata": {},
   "outputs": [
    {
     "data": {
      "text/plain": [
       "[<matplotlib.lines.Line2D at 0x7f678bad58d0>]"
      ]
     },
     "execution_count": 31,
     "metadata": {},
     "output_type": "execute_result"
    },
    {
     "data": {
      "image/png": "[encoded data removed]",
      "text/plain": [
       "<Figure size 432x288 with 1 Axes>"
      ]
     },
     "metadata": {},
     "output_type": "display_data"
    }
   ],
   "source": [
    "plt.plot(s_over_L,g_loop)"
   ]
  },
  {
   "cell_type": "code",
   "execution_count": 34,
   "metadata": {},
   "outputs": [
    {
     "data": {
      "text/latex": [
       "$[6.9765791 \\times 10^{10},~6.9900151 \\times 10^{10},~7.0024134 \\times 10^{10},~7.0135327 \\times 10^{10},~7.0232637 \\times 10^{10},~7.0314996 \\times 10^{10},~7.0381651 \\times 10^{10},~7.0432242 \\times 10^{10},~7.0466996 \\times 10^{10},~7.048574 \\times 10^{10},~7.0488729 \\times 10^{10},~7.0476091 \\times 10^{10},~7.0448097 \\times 10^{10},~7.0404942 \\times 10^{10},~7.0347114 \\times 10^{10},~7.0274592 \\times 10^{10},~7.0188187 \\times 10^{10},~7.0088318 \\times 10^{10},~6.997628 \\times 10^{10},~6.9853583 \\times 10^{10},~6.9722405 \\times 10^{10},~6.9584621 \\times 10^{10}] \\; \\mathrm{cm}$"
      ],
      "text/plain": [
       "<Distance [6.97657907e+10, 6.99001505e+10, 7.00241340e+10, 7.01353267e+10,\n",
       "           7.02326372e+10, 7.03149959e+10, 7.03816512e+10, 7.04322425e+10,\n",
       "           7.04669957e+10, 7.04857404e+10, 7.04887290e+10, 7.04760912e+10,\n",
       "           7.04480972e+10, 7.04049420e+10, 7.03471138e+10, 7.02745920e+10,\n",
       "           7.01881873e+10, 7.00883184e+10, 6.99762798e+10, 6.98535832e+10,\n",
       "           6.97224046e+10, 6.95846207e+10] cm>"
      ]
     },
     "execution_count": 34,
     "metadata": {},
     "output_type": "execute_result"
    }
   ],
   "source": [
    "active_region.loops[0].coordinates.spherical.distance"
   ]
  },
  {
   "cell_type": "code",
   "execution_count": 32,
   "metadata": {},
   "outputs": [
    {
     "data": {
      "text/latex": [
       "$27400 \\; \\mathrm{\\frac{cm}{s^{2}}}$"
      ],
      "text/plain": [
       "<Quantity 27400. cm / s2>"
      ]
     },
     "execution_count": 32,
     "metadata": {},
     "output_type": "execute_result"
    }
   ],
   "source": [
    "sun_const.surface_gravity.cgs"
   ]
  },
  {
   "cell_type": "code",
   "execution_count": 39,
   "metadata": {},
   "outputs": [
    {
     "data": {
      "text/latex": [
       "$[6.9765791 \\times 10^{10},~6.9900151 \\times 10^{10},~7.0024134 \\times 10^{10},~7.0135327 \\times 10^{10},~7.0232637 \\times 10^{10},~7.0314996 \\times 10^{10},~7.0381651 \\times 10^{10},~7.0432242 \\times 10^{10},~7.0466996 \\times 10^{10},~7.048574 \\times 10^{10},~7.0488729 \\times 10^{10},~7.0476091 \\times 10^{10},~7.0448097 \\times 10^{10},~7.0404942 \\times 10^{10},~7.0347114 \\times 10^{10},~7.0274592 \\times 10^{10},~7.0188187 \\times 10^{10},~7.0088318 \\times 10^{10},~6.997628 \\times 10^{10},~6.9853583 \\times 10^{10},~6.9722405 \\times 10^{10},~6.9584621 \\times 10^{10}] \\; \\mathrm{cm}$"
      ],
      "text/plain": [
       "<Quantity [6.97657907e+10, 6.99001505e+10, 7.00241340e+10, 7.01353267e+10,\n",
       "           7.02326372e+10, 7.03149959e+10, 7.03816512e+10, 7.04322425e+10,\n",
       "           7.04669957e+10, 7.04857404e+10, 7.04887290e+10, 7.04760912e+10,\n",
       "           7.04480972e+10, 7.04049420e+10, 7.03471138e+10, 7.02745920e+10,\n",
       "           7.01881873e+10, 7.00883184e+10, 6.99762798e+10, 6.98535832e+10,\n",
       "           6.97224046e+10, 6.95846207e+10] cm>"
      ]
     },
     "execution_count": 39,
     "metadata": {},
     "output_type": "execute_result"
    }
   ],
   "source": [
    "np.sqrt(loop000.coordinates.x**2 + loop000.coordinates.y**2 + loop000.coordinates.z**2)"
   ]
  },
  {
   "cell_type": "code",
   "execution_count": 40,
   "metadata": {},
   "outputs": [
    {
     "data": {
      "text/latex": [
       "$[6.9765791 \\times 10^{10},~6.9900151 \\times 10^{10},~7.0024134 \\times 10^{10},~7.0135327 \\times 10^{10},~7.0232637 \\times 10^{10},~7.0314996 \\times 10^{10},~7.0381651 \\times 10^{10},~7.0432242 \\times 10^{10},~7.0466996 \\times 10^{10},~7.048574 \\times 10^{10},~7.0488729 \\times 10^{10},~7.0476091 \\times 10^{10},~7.0448097 \\times 10^{10},~7.0404942 \\times 10^{10},~7.0347114 \\times 10^{10},~7.0274592 \\times 10^{10},~7.0188187 \\times 10^{10},~7.0088318 \\times 10^{10},~6.997628 \\times 10^{10},~6.9853583 \\times 10^{10},~6.9722405 \\times 10^{10},~6.9584621 \\times 10^{10}] \\; \\mathrm{cm}$"
      ],
      "text/plain": [
       "<Distance [6.97657907e+10, 6.99001505e+10, 7.00241340e+10, 7.01353267e+10,\n",
       "           7.02326372e+10, 7.03149959e+10, 7.03816512e+10, 7.04322425e+10,\n",
       "           7.04669957e+10, 7.04857404e+10, 7.04887290e+10, 7.04760912e+10,\n",
       "           7.04480972e+10, 7.04049420e+10, 7.03471138e+10, 7.02745920e+10,\n",
       "           7.01881873e+10, 7.00883184e+10, 6.99762798e+10, 6.98535832e+10,\n",
       "           6.97224046e+10, 6.95846207e+10] cm>"
      ]
     },
     "execution_count": 40,
     "metadata": {},
     "output_type": "execute_result"
    }
   ],
   "source": [
    "loop000.coordinates.spherical.distance"
   ]
  },
  {
   "cell_type": "code",
   "execution_count": 84,
   "metadata": {},
   "outputs": [
    {
     "data": {
      "text/plain": [
       "[<matplotlib.lines.Line2D at 0x7f67898bbd30>]"
      ]
     },
     "execution_count": 84,
     "metadata": {},
     "output_type": "execute_result"
    },
    {
     "data": {
      "image/png": "[encoded data removed]",
      "text/plain": [
       "<Figure size 432x288 with 1 Axes>"
      ]
     },
     "metadata": {},
     "output_type": "display_data"
    }
   ],
   "source": [
    "plt.plot(loop000.coordinates.spherical.lon.to(u.arcsec),loop000.coordinates.spherical.distance/const.R_sun.cgs,'o')"
   ]
  },
  {
   "cell_type": "code",
   "execution_count": 78,
   "metadata": {},
   "outputs": [
    {
     "data": {
      "text/plain": [
       "(69570000000.0, 72570000000.0)"
      ]
     },
     "execution_count": 78,
     "metadata": {},
     "output_type": "execute_result"
    },
    {
     "data": {
      "image/png": "[encoded data removed]",
      "text/plain": [
       "<Figure size 720x720 with 1 Axes>"
      ]
     },
     "metadata": {},
     "output_type": "display_data"
    }
   ],
   "source": [
    "fig = plt.figure(figsize=(10,10))\n",
    "ax = fig.gca(projection='3d')\n",
    "loop000 = active_region.loops[0]\n",
    "ax.plot(loop000.coordinates.y,loop000.coordinates.z,loop000.coordinates.x)\n",
    "ax.set_xlim(-1e10,-0.7e10)\n",
    "ax.set_ylim(1.5e10,1.8e10)\n",
    "ax.set_zlim(const.R_sun.cgs.value,const.R_sun.cgs.value+0.3e10)"
   ]
  },
  {
   "cell_type": "code",
   "execution_count": 63,
   "metadata": {},
   "outputs": [
    {
     "data": {
      "text/latex": [
       "$[1.3435978,~1.2917162,~1.1758812,~1.0425163,~0.89834595,~0.74506957,~0.58623274,~0.42672287,~0.26748953,~0.10866621,~-0.04824601,~-0.20315889,~-0.35574571,~-0.50491721,~-0.65175019,~-0.79463232,~-0.93136803,~-1.0595375,~-1.1736759,~-1.2693758,~-1.3448128,~-1.3778397] \\; \\mathrm{Mm}$"
      ],
      "text/plain": [
       "<Distance [ 1.34359777,  1.29171623,  1.17588124,  1.04251634,  0.89834595,\n",
       "            0.74506957,  0.58623274,  0.42672287,  0.26748953,  0.10866621,\n",
       "           -0.04824601, -0.20315889, -0.35574571, -0.50491721, -0.65175019,\n",
       "           -0.79463232, -0.93136803, -1.0595375 , -1.17367588, -1.26937576,\n",
       "           -1.34481281, -1.37783965] Mm>"
      ]
     },
     "execution_count": 63,
     "metadata": {},
     "output_type": "execute_result"
    }
   ],
   "source": [
    "np.gradient(loop000.coordinates.spherical.distance).to(u.Mm)"
   ]
  },
  {
   "cell_type": "code",
   "execution_count": 61,
   "metadata": {},
   "outputs": [
    {
     "data": {
      "text/plain": [
       "array([1.66664658e+08, 1.66522923e+08, 1.66568259e+08, 1.66594747e+08,\n",
       "       1.66647656e+08, 1.66658229e+08, 1.66662295e+08, 1.66630734e+08,\n",
       "       1.66594642e+08, 1.66573044e+08, 1.66567672e+08, 1.66570020e+08,\n",
       "       1.66576339e+08, 1.66597158e+08, 1.66594399e+08, 1.66601257e+08,\n",
       "       1.66600497e+08, 1.66602187e+08, 1.66606123e+08, 1.66611355e+08,\n",
       "       1.66622257e+08, 1.25009159e+08, 8.33538160e+07])"
      ]
     },
     "execution_count": 61,
     "metadata": {},
     "output_type": "execute_result"
    }
   ],
   "source": [
    "np.linalg.norm(grad_xyz, axis=0)"
   ]
  },
  {
   "cell_type": "code",
   "execution_count": 57,
   "metadata": {},
   "outputs": [],
   "source": [
    "s_norm = loop000.field_aligned_coordinate / loop000.full_length\n",
    "grad_xyz = np.gradient(loop000.coordinates.cartesian.xyz,axis=1)\n",
    "s_hat_r = np.gradient(loop000.coordinates.spherical.distance) / np.linalg.norm(grad_xyz, axis=0)\n",
    "g_parallel = -sun_const.surface_gravity.cgs * ((const.R_sun.cgs / loop000.coordinates.spherical.distance)**2) * s_hat_r\n",
    "g_coeff = np.polyfit(s_norm, g_parallel, 6)[::-1]"
   ]
  },
  {
   "cell_type": "code",
   "execution_count": 59,
   "metadata": {},
   "outputs": [
    {
     "data": {
      "text/plain": [
       "array([ 1.,  1.,  1.,  1.,  1.,  1.,  1.,  1.,  1.,  1., -1., -1., -1.,\n",
       "       -1., -1., -1., -1., -1., -1., -1., -1., -1., -1.])"
      ]
     },
     "execution_count": 59,
     "metadata": {},
     "output_type": "execute_result"
    }
   ],
   "source": [
    "s_hat[0,:].value"
   ]
  },
  {
   "cell_type": "code",
   "execution_count": 49,
   "metadata": {},
   "outputs": [
    {
     "data": {
      "text/latex": [
       "$[-59.959941,~-58.794651,~-56.444382,~-53.158902,~-49.014227,~-44.238099,~-38.98308,~-33.528682,~-27.972085,~-22.337495,~-16.672254,~-11.01383,~-5.459443,~0.0065903875,~5.3458707,~10.558337,~15.631075,~20.536649,~25.266591,~29.820595,~34.154085,~38.254246,~42.078876,~45.436421,~48.21892,~50.526321,~52.691206,~54.812661,~42.199123,~28.473139] \\; \\mathrm{\\frac{cm}{s^{2}}}$"
      ],
      "text/plain": [
       "<Quantity [-5.99599408e+01, -5.87946512e+01, -5.64443817e+01,\n",
       "           -5.31589018e+01, -4.90142270e+01, -4.42380990e+01,\n",
       "           -3.89830799e+01, -3.35286820e+01, -2.79720851e+01,\n",
       "           -2.23374952e+01, -1.66722539e+01, -1.10138299e+01,\n",
       "           -5.45944302e+00,  6.59038750e-03,  5.34587070e+00,\n",
       "            1.05583367e+01,  1.56310746e+01,  2.05366495e+01,\n",
       "            2.52665907e+01,  2.98205953e+01,  3.41540852e+01,\n",
       "            3.82542462e+01,  4.20788762e+01,  4.54364210e+01,\n",
       "            4.82189204e+01,  5.05263209e+01,  5.26912057e+01,\n",
       "            5.48126605e+01,  4.21991231e+01,  2.84731387e+01] cm / s2>"
      ]
     },
     "execution_count": 49,
     "metadata": {},
     "output_type": "execute_result"
    }
   ],
   "source": [
    "g_parallel"
   ]
  },
  {
   "cell_type": "code",
   "execution_count": 44,
   "metadata": {},
   "outputs": [
    {
     "data": {
      "text/latex": [
       "$[-27246.425,~-27141.781,~-27045.753,~-26960.064,~-26885.407,~-26822.463,~-26771.683,~-26733.236,~-26706.874,~-26692.671,~-26690.408,~-26699.981,~-26721.205,~-26753.973,~-26797.977,~-26853.315,~-26919.471,~-26996.241,~-27082.757,~-27177.981,~-27280.345,~-27388.487] \\; \\mathrm{\\frac{cm}{s^{2}}}$"
      ],
      "text/plain": [
       "<Quantity [-27246.42507118, -27141.78136976, -27045.75296021,\n",
       "           -26960.06408842, -26885.40707175, -26822.46316225,\n",
       "           -26771.682584  , -26733.23630966, -26706.87396834,\n",
       "           -26692.67124221, -26690.40786093, -26699.98097254,\n",
       "           -26721.20475996, -26753.97265371, -26797.97652408,\n",
       "           -26853.31483564, -26919.47073867, -26996.24052897,\n",
       "           -27082.75678634, -27177.98108699, -27280.34483256,\n",
       "           -27388.4869888 ] cm / s2>"
      ]
     },
     "execution_count": 44,
     "metadata": {},
     "output_type": "execute_result"
    }
   ],
   "source": [
    "-sun_const.surface_gravity.cgs * ((const.R_sun.cgs / loop000.coordinates.spherical.distance)**2)"
   ]
  },
  {
   "cell_type": "code",
   "execution_count": 43,
   "metadata": {},
   "outputs": [
    {
     "data": {
      "text/latex": [
       "$[0.001925869,~0.0018479449,~0.0016792514,~0.0014864354,~0.0012791004,~0.0010596169,~0.00083293406,~0.00060586296,~0.00037959548,~0.00015416765,~-6.8445 \\times 10^{-5},~-0.0002882664,~-0.00050497561,~-0.0007171616,~-0.00092647751,~-0.0011307534,~-0.0013269584,~-0.0015117177,~-0.0016772482,~-0.0018171949,~-0.0019288101,~-0.0019800922] \\; \\mathrm{}$"
      ],
      "text/plain": [
       "<Quantity [ 1.92586905e-03,  1.84794485e-03,  1.67925138e-03,\n",
       "            1.48643543e-03,  1.27910040e-03,  1.05961688e-03,\n",
       "            8.32934056e-04,  6.05862956e-04,  3.79595475e-04,\n",
       "            1.54167655e-04, -6.84449997e-05, -2.88266398e-04,\n",
       "           -5.04975605e-04, -7.17161602e-04, -9.26477509e-04,\n",
       "           -1.13075337e-03, -1.32695837e-03, -1.51171769e-03,\n",
       "           -1.67724818e-03, -1.81719491e-03, -1.92881014e-03,\n",
       "           -1.98009221e-03]>"
      ]
     },
     "execution_count": 43,
     "metadata": {},
     "output_type": "execute_result"
    }
   ],
   "source": [
    "s_hat_r"
   ]
  },
  {
   "cell_type": "markdown",
   "metadata": {},
   "source": [
    "## Load in HYDRAD Results"
   ]
  },
  {
   "cell_type": "code",
   "execution_count": null,
   "metadata": {},
   "outputs": [],
   "source": []
  }
 ],
 "metadata": {
  "kernelspec": {
   "display_name": "Python [conda env:synthesizar]",
   "language": "python",
   "name": "conda-env-synthesizar-py"
  },
  "language_info": {
   "codemirror_mode": {
    "name": "ipython",
    "version": 3
   },
   "file_extension": ".py",
   "mimetype": "text/x-python",
   "name": "python",
   "nbconvert_exporter": "python",
   "pygments_lexer": "ipython3",
   "version": "3.6.5"
  }
 },
 "nbformat": 4,
 "nbformat_minor": 2
}
