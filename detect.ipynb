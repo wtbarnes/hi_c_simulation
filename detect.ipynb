{
 "cells": [
  {
   "cell_type": "markdown",
   "metadata": {},
   "source": [
    "# Synthesize Detected Intensities\n",
    "Compute synthesized intensity maps using our fake Hi-C instrument and our hydrodynamic simulations"
   ]
  },
  {
   "cell_type": "code",
   "execution_count": null,
   "metadata": {},
   "outputs": [],
   "source": [
    "import time\n",
    "import sys\n",
    "import os\n",
    "os.environ['MKL_NUM_THREADS'] = '1'\n",
    "os.environ['OMP_NUM_THREADS'] = '1'\n",
    "os.environ['NUMEXPR_NUM_THREADS'] = '1'\n",
    "import traceback\n",
    "\n",
    "import numpy as np\n",
    "from scipy.interpolate import splprep,splev\n",
    "import toolz\n",
    "import h5py\n",
    "import matplotlib\n",
    "#matplotlib.use('cairo')\n",
    "#print(matplotlib.get_backend())\n",
    "import matplotlib.pyplot as plt\n",
    "import matplotlib.colors\n",
    "import matplotlib.animation\n",
    "import astropy.units as u\n",
    "import astropy.constants as const\n",
    "from astropy.coordinates import SkyCoord\n",
    "from astropy.utils.console import ProgressBar\n",
    "from astropy.visualization import AsinhStretch,SqrtStretch,ImageNormalize\n",
    "import sunpy.sun.constants as sun_const\n",
    "import sunpy.map\n",
    "import sunpy\n",
    "from scipy.interpolate import splrep,splev\n",
    "import dask\n",
    "import distributed\n",
    "from dask_jobqueue import SLURMCluster\n",
    "from IPython.display import HTML\n",
    "\n",
    "import synthesizAR\n",
    "from synthesizAR.observe import ObserverParallel\n",
    "from synthesizAR.util import SpatialPair\n",
    "from hi_c import InstrumentHiC,CustomEmissionModel\n",
    "\n",
    "%matplotlib inline\n",
    "#%load_ext snakeviz"
   ]
  },
  {
   "cell_type": "markdown",
   "metadata": {},
   "source": [
    "Load in both the emission model and the active region"
   ]
  },
  {
   "cell_type": "code",
   "execution_count": null,
   "metadata": {},
   "outputs": [],
   "source": [
    "active_region = synthesizAR.Field.restore('/scratch/wtb2/hi_c_simulation/field_checkpoint/')"
   ]
  },
  {
   "cell_type": "code",
   "execution_count": null,
   "metadata": {},
   "outputs": [],
   "source": [
    "em_model = CustomEmissionModel.restore('/scratch/wtb2/hi_c_simulation/emission_model.json')"
   ]
  },
  {
   "cell_type": "markdown",
   "metadata": {},
   "source": [
    "Need to modify observer a bit so that we avoid a bunch of unneeded interpolation."
   ]
  },
  {
   "cell_type": "code",
   "execution_count": null,
   "metadata": {},
   "outputs": [],
   "source": [
    "class Observer(ObserverParallel):\n",
    "    \n",
    "    def _interpolate_loops(self, ds):\n",
    "        \"\"\"\n",
    "        Don't interpolate, just load them from the loops. The resolution is already sufficiently high.\n",
    "        \"\"\"\n",
    "        # Interpolate all loops in HEEQ coordinates\n",
    "        total_coordinates = []\n",
    "        interpolated_loop_coordinates = []\n",
    "        for loop in self.field.loops:\n",
    "            interpolated_loop_coordinates.append(loop.field_aligned_coordinate.to(u.cm).value)\n",
    "            total_coordinates.append(loop.coordinates.cartesian.xyz.value.T)\n",
    "\n",
    "        total_coordinates = np.vstack(total_coordinates) * loop.coordinates.cartesian.xyz.unit\n",
    "\n",
    "        return total_coordinates, interpolated_loop_coordinates\n",
    "    \n",
    "    def flatten_detector_counts(self, **kwargs):\n",
    "        \"\"\"\n",
    "        Build custom Dask graph interpolating quantities for each in loop in time and space.\n",
    "        \"\"\"\n",
    "        emission_model = kwargs.get('emission_model', None)\n",
    "        interpolate_hydro_quantities = kwargs.get('interpolate_hydro_quantities', True)\n",
    "        futures = {}\n",
    "        for instr in self.instruments:\n",
    "            futures[f'{instr.name}'] = instr.flatten_parallel(\n",
    "                self.field.loops,self._interpolated_loop_coordinates, emission_model=emission_model)\n",
    "\n",
    "        return futures"
   ]
  },
  {
   "cell_type": "code",
   "execution_count": null,
   "metadata": {},
   "outputs": [],
   "source": [
    "hic = InstrumentHiC([1e4,2e4]*u.s,active_region.magnetogram.observer_coordinate,\n",
    "                    fov={'min_x': -235*u.arcsec, 'max_x': -15*u.arcsec,\n",
    "                         'min_y': 160*u.arcsec, 'max_y': 380*u.arcsec},\n",
    "                    resolution=SpatialPair(x=0.6*u.arcsec/u.pixel, y=0.6*u.arcsec/u.pixel, z=None))"
   ]
  },
  {
   "cell_type": "code",
   "execution_count": null,
   "metadata": {},
   "outputs": [],
   "source": [
    "obs = Observer(active_region,[hic],)"
   ]
  },
  {
   "cell_type": "code",
   "execution_count": null,
   "metadata": {},
   "outputs": [],
   "source": [
    "#cluster = distributed.LocalCluster(threads_per_worker=1,n_workers=64,memory_limit='4GB')\n",
    "cluster = SLURMCluster(queue='commons',\n",
    "                       walltime='00:10:00',\n",
    "                       local_directory='$SHARED_SCRATCH/wtb2',\n",
    "                       memory='10GB',cores=2)"
   ]
  },
  {
   "cell_type": "code",
   "execution_count": null,
   "metadata": {},
   "outputs": [],
   "source": [
    "print(cluster.job_script())"
   ]
  },
  {
   "cell_type": "code",
   "execution_count": null,
   "metadata": {},
   "outputs": [],
   "source": [
    "cluster.start_workers(10)"
   ]
  },
  {
   "cell_type": "code",
   "execution_count": null,
   "metadata": {},
   "outputs": [],
   "source": [
    "client = distributed.Client(cluster)\n",
    "client"
   ]
  },
  {
   "cell_type": "markdown",
   "metadata": {},
   "source": [
    "### Flatten Counts"
   ]
  },
  {
   "cell_type": "code",
   "execution_count": null,
   "metadata": {},
   "outputs": [],
   "source": [
    "obs.build_detector_files('/scratch/wtb2/hi_c_simulation/',None)"
   ]
  },
  {
   "cell_type": "code",
   "execution_count": null,
   "metadata": {},
   "outputs": [],
   "source": [
    "flatten_futures = obs.flatten_detector_counts(emission_model=em_model, interpolate_hydro_quantities=False)"
   ]
  },
  {
   "cell_type": "markdown",
   "metadata": {},
   "source": [
    "### Bin Counts"
   ]
  },
  {
   "cell_type": "code",
   "execution_count": null,
   "metadata": {},
   "outputs": [],
   "source": [
    "bin_futures = obs.bin_detector_counts('/storage-home/w/wtb2/data/hi_c_simulation/aia_res')"
   ]
  },
  {
   "cell_type": "code",
   "execution_count": null,
   "metadata": {},
   "outputs": [],
   "source": [
    "bin_futures['Hi_C']['171'][0].exception()"
   ]
  },
  {
   "cell_type": "markdown",
   "metadata": {},
   "source": [
    "## Animation"
   ]
  },
  {
   "cell_type": "code",
   "execution_count": null,
   "metadata": {},
   "outputs": [],
   "source": [
    "m = sunpy.map.Map('/storage-home/w/wtb2/data/hi_c_simulation/Hi_C/171/map_t000000.fits')\n",
    "#m = m.submap(SkyCoord(-210*u.arcsec,190.*u.arcsec,frame=m.coordinate_frame),\n",
    "#             SkyCoord(-60.*u.arcsec,340*u.arcsec,frame=m.coordinate_frame))"
   ]
  },
  {
   "cell_type": "code",
   "execution_count": null,
   "metadata": {},
   "outputs": [],
   "source": [
    "fig = plt.figure(figsize=(10,10))\n",
    "ax = fig.gca(projection=m)\n",
    "m.plot(axes=ax,cmap=sunpy.cm.get_cmap('sdoaia171'),title=False,annotate=False,\n",
    "       norm=ImageNormalize(vmin=0,vmax=1e1,stretch=AsinhStretch(0.05))#matplotlib.colors.SymLogNorm(1e-10,vmin=0.1,vmax=1e1)\n",
    "      )\n",
    "ax.grid(alpha=0)\n",
    "fig.subplots_adjust(left=0,right=1,top=1,bottom=0,wspace=None,hspace=None)\n",
    "#plt.savefig('hi_c_171_map.pdf',bbox_inches='tight')\n",
    "lon,lat = ax.coords[0],ax.coords[1]\n",
    "#lon.set_ticklabel_visible(False)\n",
    "#lon.set_ticks_visible(False)\n",
    "#lat.set_ticklabel_visible(False)\n",
    "#lat.set_ticks_visible(False)\n",
    "xpix,ypix = m.world_to_pixel(SkyCoord(Tx=-230*u.arcsec,Ty=165*u.arcsec,frame=m.coordinate_frame))\n",
    "ax.text(int(xpix.value),int(ypix.value),\n",
    "        f'$t={hic.observing_time[0].value:.0f}$ {hic.observing_time.unit}',\n",
    "        fontsize=20,color='w',)"
   ]
  },
  {
   "cell_type": "code",
   "execution_count": null,
   "metadata": {},
   "outputs": [],
   "source": [
    "fig = plt.figure(figsize=(10,10))\n",
    "m = sunpy.map.Map('/storage-home/w/wtb2/data/hi_c_simulation/aia_res/Hi_C/171/map_t000000.fits')\n",
    "m = m.submap(SkyCoord(-210*u.arcsec,190.*u.arcsec,frame=m.coordinate_frame),\n",
    "             SkyCoord(-60.*u.arcsec,340*u.arcsec,frame=m.coordinate_frame))\n",
    "ax = fig.gca(projection=m)\n",
    "im = m.plot(axes=ax,cmap=sunpy.cm.get_cmap('sdoaia171'),\n",
    "            norm=ImageNormalize(vmin=0,vmax=1e3,stretch=AsinhStretch(0.05)),\n",
    "            annotate=False,\n",
    "            title=False)\n",
    "ax.grid(alpha=0)\n",
    "lon,lat = ax.coords[0],ax.coords[1]\n",
    "lon.set_ticklabel_visible(False)\n",
    "lon.set_ticks_visible(False)\n",
    "lat.set_ticklabel_visible(False)\n",
    "lat.set_ticks_visible(False)\n",
    "#plt.tight_layout()\n",
    "fig.subplots_adjust(left=0,bottom=0,top=1,right=1,hspace=None,wspace=None)\n",
    "xpix,ypix = m.world_to_pixel(SkyCoord(Tx=-205*u.arcsec,Ty=195*u.arcsec,frame=m.coordinate_frame))\n",
    "xpix,ypix = int(xpix.value),int(ypix.value)\n",
    "text = ax.text(xpix,ypix,\n",
    "               f'$t={hic.observing_time[0].value:.0f}$ {hic.observing_time}',\n",
    "               fontsize=20,color='w',)\n",
    "def update(i):\n",
    "    m = sunpy.map.Map(f'/storage-home/w/wtb2/data/hi_c_simulation/aia_res/Hi_C/171/map_t{i:06d}.fits')\n",
    "    m = m.submap(SkyCoord(-210*u.arcsec,190.*u.arcsec,frame=m.coordinate_frame),\n",
    "                 SkyCoord(-60.*u.arcsec,340*u.arcsec,frame=m.coordinate_frame))\n",
    "    im.set_data(m.data)\n",
    "    #ax.set_title(f'$t={hic.observing_time[i]:.0f}$',fontsize=20)\n",
    "    text.set_text(f'$t={hic.observing_time[i].value:.0f}$ {hic.observing_time.unit}')\n",
    "    return im,text\n",
    "anim = matplotlib.animation.FuncAnimation(fig,update,frames=hic.observing_time.shape[0],\n",
    "                                          blit=True, repeat=True, interval=20)"
   ]
  },
  {
   "cell_type": "code",
   "execution_count": null,
   "metadata": {},
   "outputs": [],
   "source": [
    "dpi = int(np.sqrt(m.data.shape[0]*m.data.shape[1] / (fig.get_figheight()*fig.get_figwidth()))*4)"
   ]
  },
  {
   "cell_type": "code",
   "execution_count": null,
   "metadata": {},
   "outputs": [],
   "source": [
    "anim.save('hi_c_movie_aia_res.mp4',writer='ffmpeg',dpi=dpi,)"
   ]
  },
  {
   "cell_type": "code",
   "execution_count": null,
   "metadata": {},
   "outputs": [],
   "source": [
    "1667/1000 * 20"
   ]
  },
  {
   "cell_type": "code",
   "execution_count": null,
   "metadata": {},
   "outputs": [],
   "source": [
    "m.data.shape"
   ]
  },
  {
   "cell_type": "code",
   "execution_count": null,
   "metadata": {},
   "outputs": [],
   "source": []
  }
 ],
 "metadata": {
  "kernelspec": {
   "display_name": "Python 3",
   "language": "python",
   "name": "python3"
  },
  "language_info": {
   "codemirror_mode": {
    "name": "ipython",
    "version": 3
   },
   "file_extension": ".py",
   "mimetype": "text/x-python",
   "name": "python",
   "nbconvert_exporter": "python",
   "pygments_lexer": "ipython3",
   "version": "3.6.5"
  }
 },
 "nbformat": 4,
 "nbformat_minor": 2
}
