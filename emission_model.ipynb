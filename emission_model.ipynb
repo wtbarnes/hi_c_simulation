{
 "cells": [
  {
   "cell_type": "markdown",
   "metadata": {},
   "source": [
    "# Emission Model"
   ]
  },
  {
   "cell_type": "code",
   "execution_count": 1,
   "metadata": {},
   "outputs": [
    {
     "name": "stderr",
     "output_type": "stream",
     "text": [
      "/storage-home/w/wtb2/anaconda3/envs/synthesizar/lib/python3.6/site-packages/h5py/__init__.py:36: FutureWarning: Conversion of the second argument of issubdtype from `float` to `np.floating` is deprecated. In future, it will be treated as `np.float64 == np.dtype(float).type`.\n",
      "  from ._conv import register_converters as _register_converters\n"
     ]
    }
   ],
   "source": [
    "import numpy as np\n",
    "import matplotlib.pyplot as plt\n",
    "import scipy.interpolate\n",
    "import astropy.units as u\n",
    "import fiasco\n",
    "\n",
    "import synthesizAR\n",
    "from hi_c import CustomEmissionModel\n",
    "\n",
    "%matplotlib inline"
   ]
  },
  {
   "cell_type": "markdown",
   "metadata": {},
   "source": [
    "Build an emission model with the needed ions:\n",
    "\n",
    "* Fe VIII\n",
    "* Fe IX\n",
    "* Fe X\n",
    "* Fe XI\n",
    "* Fe XII\n",
    "* Fe XIII\n",
    "* Fe XIV\n",
    "* Fe XV\n",
    "* Fe XVI\n",
    "* ~~Fe XVII~~\n",
    "* ~~Fe XVIII~~\n",
    "* ~~Fe XIX~~\n",
    "* ~~Fe XX~~\n",
    "* ~~Fe XXI~~\n",
    "* ~~Fe XXII~~\n",
    "* ~~Fe XXIII~~\n",
    "* ~~Fe XXIV~~\n",
    "* ~~Fe XXV~~\n",
    "\n",
    "Base on the AIA temperature response, we should probably also include oxygen and nickel as well. However, our ionization equilibrium file is already going to balloon in size so it is best to just focus on Fe for now. We could even exclude some of the really hot stuff, i.e. anything above Fe XVII or Fe XVIII."
   ]
  },
  {
   "cell_type": "code",
   "execution_count": 2,
   "metadata": {},
   "outputs": [],
   "source": [
    "temperature = 10.**(np.arange(4.5,8,0.05))*u.K\n",
    "density = np.logspace(7,11,15)/(u.cm**3)"
   ]
  },
  {
   "cell_type": "code",
   "execution_count": 3,
   "metadata": {},
   "outputs": [],
   "source": [
    "iron = fiasco.Element('iron',temperature)"
   ]
  },
  {
   "cell_type": "markdown",
   "metadata": {},
   "source": [
    "First, build the emission model using the above ions."
   ]
  },
  {
   "cell_type": "code",
   "execution_count": 5,
   "metadata": {},
   "outputs": [],
   "source": [
    "ions = [fiasco.Ion(f'iron {i}',temperature,abundance_filename='sun_coronal_1992_feldman') for i in range(8,17)]"
   ]
  },
  {
   "cell_type": "code",
   "execution_count": 6,
   "metadata": {},
   "outputs": [],
   "source": [
    "em_model = CustomEmissionModel(density,*ions,)"
   ]
  },
  {
   "cell_type": "markdown",
   "metadata": {},
   "source": [
    "Then, compute the emissivity for each ion."
   ]
  },
  {
   "cell_type": "code",
   "execution_count": 7,
   "metadata": {},
   "outputs": [
    {
     "data": {
      "application/vnd.jupyter.widget-view+json": {
       "model_id": "dd3f7fda771b48e7bc1781fcbe6052c8",
       "version_major": 2,
       "version_minor": 0
      },
      "text/plain": [
       "FloatProgress(value=0.0)"
      ]
     },
     "metadata": {},
     "output_type": "display_data"
    },
    {
     "name": "stderr",
     "output_type": "stream",
     "text": [
      "/storage-home/w/wtb2/anaconda3/envs/synthesizar/lib/python3.6/site-packages/fiasco/ion.py:223: RuntimeWarning: invalid value encountered in greater\n",
      "  ex_rate = u.Quantity(np.where(ex_rate > 0., ex_rate, 0.), u.cm**3/u.s).T\n"
     ]
    },
    {
     "name": "stdout",
     "output_type": "stream",
     "text": [
      "\n"
     ]
    }
   ],
   "source": [
    "em_model.calculate_emissivity('/storage-home/w/wtb2/data/hi_c_simulation/emissivity_table.h5',notebook=True)"
   ]
  },
  {
   "cell_type": "code",
   "execution_count": 8,
   "metadata": {},
   "outputs": [],
   "source": [
    "active_region = synthesizAR.Field.restore('/storage-home/w/wtb2/data/hi_c_simulation/field_checkpoint/')"
   ]
  },
  {
   "cell_type": "code",
   "execution_count": 9,
   "metadata": {},
   "outputs": [
    {
     "name": "stderr",
     "output_type": "stream",
     "text": [
      "WARNING: UnitsWarning: 'cm3 K(3/2) / s' contains multiple slashes, which is discouraged by the FITS standard [astropy.units.format.generic]\n"
     ]
    }
   ],
   "source": [
    "em_model.calculate_ionization_fraction(active_region, '/storage-home/w/wtb2/data/hi_c_simulation/ionization_fractions.h5')"
   ]
  },
  {
   "cell_type": "markdown",
   "metadata": {},
   "source": [
    "And save the emission model"
   ]
  },
  {
   "cell_type": "code",
   "execution_count": 10,
   "metadata": {},
   "outputs": [],
   "source": [
    "em_model.save('/storage-home/w/wtb2/data/hi_c_simulation/emission_model.json')"
   ]
  },
  {
   "cell_type": "code",
   "execution_count": null,
   "metadata": {},
   "outputs": [],
   "source": []
  }
 ],
 "metadata": {
  "kernelspec": {
   "display_name": "Python [conda env:synthesizar]",
   "language": "python",
   "name": "conda-env-synthesizar-py"
  },
  "language_info": {
   "codemirror_mode": {
    "name": "ipython",
    "version": 3
   },
   "file_extension": ".py",
   "mimetype": "text/x-python",
   "name": "python",
   "nbconvert_exporter": "python",
   "pygments_lexer": "ipython3",
   "version": "3.6.5"
  }
 },
 "nbformat": 4,
 "nbformat_minor": 2
}
